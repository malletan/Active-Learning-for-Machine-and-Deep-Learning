{
 "cells": [
  {
   "cell_type": "code",
   "execution_count": 1,
   "id": "39cd0f26",
   "metadata": {},
   "outputs": [
    {
     "name": "stderr",
     "output_type": "stream",
     "text": [
      "Using TensorFlow backend.\n"
     ]
    }
   ],
   "source": [
    "import keras\n",
    "from keras.models import Sequential\n",
    "from keras.layers import Dense, Dropout, Flatten, Conv2D, MaxPooling2D\n",
    "from keras.wrappers.scikit_learn import KerasClassifier \n",
    "import numpy as np\n",
    "from keras.datasets import mnist\n",
    "from modAL.models import ActiveLearner"
   ]
  },
  {
   "cell_type": "code",
   "execution_count": 2,
   "id": "c769cbbc",
   "metadata": {},
   "outputs": [],
   "source": [
    "def create_model():\n",
    "    model = Sequential()\n",
    "    model.add(Conv2D(32, kernel_size=(3,3), activation='relu', input_shape=(28,28,1)))\n",
    "    model.add(Conv2D(64, kernel_size=(3,3), activation='relu'))\n",
    "    model.add(MaxPooling2D(pool_size=(2,2)))\n",
    "    model.add(Dropout(.25))\n",
    "    model.add(Flatten())\n",
    "    model.add(Dense(128, activation='relu'))\n",
    "    model.add(Dropout(.5))\n",
    "    model.add(Dense(10, activation='softmax'))\n",
    "    \n",
    "    model.compile(loss='categorical_crossentropy', optimizer='adadelta', metrics=['accuracy'])\n",
    "    \n",
    "    return model"
   ]
  },
  {
   "cell_type": "code",
   "execution_count": 3,
   "id": "59b97487",
   "metadata": {},
   "outputs": [],
   "source": [
    "clf = KerasClassifier(create_model)"
   ]
  },
  {
   "cell_type": "code",
   "execution_count": 4,
   "id": "363cc574",
   "metadata": {},
   "outputs": [],
   "source": [
    "(X_train, y_train), (X_test, y_test) = mnist.load_data()\n",
    "X_train = X_train.reshape(60000, 28, 28, 1).astype('float32') / 255\n",
    "X_test = X_test.reshape(10000, 28, 28, 1).astype('float32') /255\n",
    "y_train = keras.utils.to_categorical(y_train, 10)\n",
    "y_test = keras.utils.to_categorical(y_test, 10)\n",
    "\n",
    "n_initial = 1000\n",
    "initial_idx = np.random.choice(range(len(X_train)), size=n_initial, replace=False)\n",
    "X_initial = X_train[initial_idx]\n",
    "y_initial = y_train[initial_idx]\n",
    "\n",
    "X_pool = np.delete(X_train, initial_idx, axis=0)[:5000]\n",
    "y_pool = np.delete(y_train, initial_idx, axis=0)[:5000]"
   ]
  },
  {
   "cell_type": "code",
   "execution_count": 5,
   "id": "5757071c",
   "metadata": {},
   "outputs": [
    {
     "name": "stdout",
     "output_type": "stream",
     "text": [
      "Epoch 1/1\n",
      "1000/1000 [==============================] - 3s 3ms/step - loss: 1.5128 - accuracy: 0.4790\n"
     ]
    }
   ],
   "source": [
    "learner = ActiveLearner(estimator=clf,\n",
    "                       X_training=X_initial,\n",
    "                       y_training=y_initial,\n",
    "                       verbose=1)"
   ]
  },
  {
   "cell_type": "code",
   "execution_count": 6,
   "id": "09a1312f",
   "metadata": {},
   "outputs": [
    {
     "name": "stdout",
     "output_type": "stream",
     "text": [
      "Query no. 1\n",
      "Epoch 1/1\n",
      "1100/1100 [==============================] - 4s 3ms/step - loss: 1.5313 - accuracy: 0.4809\n",
      "Query no. 2\n",
      "Epoch 1/1\n",
      "1200/1200 [==============================] - 4s 3ms/step - loss: 1.6054 - accuracy: 0.4650\n",
      "Query no. 3\n",
      "Epoch 1/1\n",
      "1300/1300 [==============================] - 4s 3ms/step - loss: 1.4716 - accuracy: 0.4869\n",
      "Query no. 4\n",
      "Epoch 1/1\n",
      "1400/1400 [==============================] - 4s 3ms/step - loss: 1.4794 - accuracy: 0.5000\n",
      "Query no. 5\n",
      "Epoch 1/1\n",
      "1500/1500 [==============================] - 5s 3ms/step - loss: 1.4783 - accuracy: 0.5013\n",
      "Query no. 6\n",
      "Epoch 1/1\n",
      "1600/1600 [==============================] - 5s 3ms/step - loss: 1.5443 - accuracy: 0.4631\n",
      "Query no. 7\n",
      "Epoch 1/1\n",
      "1700/1700 [==============================] - 5s 3ms/step - loss: 1.4287 - accuracy: 0.5224\n",
      "Query no. 8\n",
      "Epoch 1/1\n",
      "1800/1800 [==============================] - 6s 3ms/step - loss: 1.4864 - accuracy: 0.4894\n",
      "Query no. 9\n",
      "Epoch 1/1\n",
      "1900/1900 [==============================] - 6s 3ms/step - loss: 1.4487 - accuracy: 0.4937\n",
      "Query no. 10\n",
      "Epoch 1/1\n",
      "2000/2000 [==============================] - 6s 3ms/step - loss: 1.4254 - accuracy: 0.5095\n"
     ]
    }
   ],
   "source": [
    "n_queries = 10\n",
    "for idx in range(n_queries):\n",
    "    print('Query no. %d' %(idx+1))\n",
    "    query_idx, query_instance = learner.query(X_pool, n_instances=100, verbose=0)\n",
    "    learner.teach(X=X_pool[query_idx], y=y_pool[query_idx], only_new=False, verbose=1)\n",
    "    X_pool = np.delete(X_pool, query_idx, axis=0)\n",
    "    y_pool = np.delete(y_pool, query_idx, axis=0)"
   ]
  },
  {
   "cell_type": "code",
   "execution_count": null,
   "id": "4ffa605d",
   "metadata": {},
   "outputs": [],
   "source": []
  }
 ],
 "metadata": {
  "kernelspec": {
   "display_name": "Python 3",
   "language": "python",
   "name": "python3"
  },
  "language_info": {
   "codemirror_mode": {
    "name": "ipython",
    "version": 3
   },
   "file_extension": ".py",
   "mimetype": "text/x-python",
   "name": "python",
   "nbconvert_exporter": "python",
   "pygments_lexer": "ipython3",
   "version": "3.6.13"
  }
 },
 "nbformat": 4,
 "nbformat_minor": 5
}
